{
 "cells": [
  {
   "cell_type": "markdown",
   "id": "b62895d0",
   "metadata": {},
   "source": [
    "# Étude des Applications GPS : Cas pratiques et Algorithmes"
   ]
  },
  {
   "cell_type": "markdown",
   "id": "20a9daf2",
   "metadata": {},
   "source": [
    "\n",
    "Ce notebook explore le fonctionnement de quatre applications GPS : Google Maps, Waze, BRouter et OsmAnd. \n",
    "Il est divisé en deux catégories :\n",
    "\n",
    "- **Cas non open-source** : Google Maps, Waze.\n",
    "- **Cas open-source** : BRouter, OsmAnd.\n"
   ]
  },
  {
   "cell_type": "markdown",
   "metadata": {},
   "source": [
    "**Sommaire**<a id='toc0_'></a>    \n",
    "- [Cas non open-source](#toc1_)    \n",
    "  - [Google Maps](#toc1_1_)    \n",
    "    - [Description](#toc1_1_1_)    \n",
    "    - [Fonctionnement des Algorithmes](#toc1_1_2_)    \n",
    "  - [Waze](#toc1_2_)    \n",
    "    - [Description](#toc1_2_1_)    \n",
    "    - [Fonctionnement des Algorithmes](#toc1_2_2_)    \n",
    "- [Cas open-source](#toc2_)    \n",
    "  - [BRouter](#toc2_1_)    \n",
    "    - [Description](#toc2_1_1_)    \n",
    "    - [Fonctionnement des Algorithmes](#toc2_1_2_)    \n",
    "    - [Exemple de code](#toc2_1_3_)    \n",
    "  - [OsmAnd](#toc2_2_)    \n",
    "  - [Description](#toc2_3_)    \n",
    "  - [Fonctionnement des Algorithmes](#toc2_4_)    \n",
    "  - [Structure du Code](#toc2_5_)    \n",
    "    - [Initialisation des structures de données](#toc2_5_1_)    \n",
    "    - [Direction de la recherche (avant/arrière)](#toc2_5_2_)    \n",
    "    - [Initialisation de la recherche Dijkstra](#toc2_5_3_)    \n",
    "    - [Boucle principale de recherche](#toc2_5_4_)    \n",
    "    - [Gestion des directions multiples](#toc2_5_5_)    \n",
    "    - [Retour du résultat](#toc2_5_6_)    \n",
    "    - [Conclusion](#toc2_5_7_)    \n",
    "\n",
    "<!-- vscode-jupyter-toc-config\n",
    "\tnumbering=false\n",
    "\tanchor=true\n",
    "\tflat=false\n",
    "\tminLevel=2\n",
    "\tmaxLevel=4\n",
    "\t/vscode-jupyter-toc-config -->\n",
    "<!-- THIS CELL WILL BE REPLACED ON TOC UPDATE. DO NOT WRITE YOUR TEXT IN THIS CELL -->"
   ]
  },
  {
   "cell_type": "markdown",
   "id": "bfa87afe",
   "metadata": {},
   "source": [
    "## <a id='toc1_'></a>[Cas non open-source](#toc0_)"
   ]
  },
  {
   "cell_type": "markdown",
   "id": "229f796c",
   "metadata": {},
   "source": [
    "### <a id='toc1_1_'></a>[Google Maps](#toc0_)"
   ]
  },
  {
   "cell_type": "markdown",
   "id": "30aef9ad",
   "metadata": {},
   "source": [
    "\n",
    "#### <a id='toc1_1_1_'></a>[Description](#toc0_)\n",
    "Google Maps est une application populaire de cartographie et de navigation, offrant des itinéraires en voiture, \n",
    "à pied, à vélo, et via les transports en commun. Elle utilise des données en temps réel pour proposer des \n",
    "trajets optimisés.\n",
    "\n",
    "#### <a id='toc1_1_2_'></a>[Fonctionnement des Algorithmes](#toc0_)\n",
    "Les algorithmes utilisés par Google Maps combinent plusieurs techniques :\n",
    "\n",
    "<div style=\"text-align: justify;\">\n",
    "\n",
    "- **Dijkstra et A*** : Ces algorithmes trouvent le chemin le plus court entre deux points.\n",
    "- **Données en temps réel** : Des informations sur le trafic, les accidents ou les fermetures de routes \n",
    "  sont intégrées à l'algorithme.\n",
    "- **Apprentissage automatique** : Google utilise des modèles d'apprentissage automatique pour anticiper \n",
    "  les conditions de trafic.\n",
    "- **Historique des déplacements** : Les données des utilisateurs sont utilisées pour améliorer les prédictions \n",
    "  de trafic.\n",
    "- **Réseaux Neuronaux Graphiques** : Les réseaux neuronaux graphiques (GNN) sont une extension des réseaux neuronaux conçue pour traiter des données structurées en graphes, comme les réseaux routiers. Google Maps les utilise pour modéliser les supersegments : chaque segment de route est un nœud, et les intersections forment des connexions (arêtes). Les GNN intègrent les données locales (trafic sur un segment) et globales (effets d'embouteillages voisins) pour prédire efficacement des temps de trajet (ETA) en combinant historique et données en temps réel.\n",
    "\n",
    "</div>\n",
    "\n",
    "*Note : Le code source de Google Maps n'est pas accessible.*\n"
   ]
  },
  {
   "cell_type": "markdown",
   "id": "c18bd277",
   "metadata": {},
   "source": [
    "### <a id='toc1_2_'></a>[Waze](#toc0_)"
   ]
  },
  {
   "cell_type": "markdown",
   "id": "92386d72",
   "metadata": {},
   "source": [
    "\n",
    "#### <a id='toc1_2_1_'></a>[Description](#toc0_)\n",
    "Waze est une application GPS communautaire qui utilise les rapports des utilisateurs pour informer sur les \n",
    "conditions de trafic, les accidents et autres événements en temps réel.\n",
    "\n",
    "#### <a id='toc1_2_2_'></a>[Fonctionnement des Algorithmes](#toc0_)\n",
    "- Waze utilise des algorithmes similaires à ceux de Google Maps pour calculer les itinéraires optimaux.\n",
    "- Les données utilisateurs sont au cœur de l'application : elles alimentent en temps réel les décisions de \n",
    "  recalcul d'itinéraires.\n",
    "- Les trajets sont souvent adaptés pour éviter des zones à trafic élevé grâce aux rapports communautaires.\n",
    "\n",
    "*Note : Waze, bien qu'appartenant à Google, conserve une approche distincte en termes de données.*\n",
    "\n",
    "\n",
    "\n",
    "---\n"
   ]
  },
  {
   "cell_type": "markdown",
   "id": "7ce1ea39",
   "metadata": {},
   "source": [
    "## <a id='toc2_'></a>[Cas open-source](#toc0_)"
   ]
  },
  {
   "cell_type": "markdown",
   "id": "f0f14181",
   "metadata": {},
   "source": [
    "### <a id='toc2_1_'></a>[BRouter](#toc0_)"
   ]
  },
  {
   "cell_type": "markdown",
   "id": "0072bbfd",
   "metadata": {},
   "source": [
    "\n",
    "#### <a id='toc2_1_1_'></a>[Description](#toc0_)\n",
    "BRouter est une application open-source spécialisée dans le calcul d'itinéraires pour les cyclistes et \n",
    "les amateurs de randonnées. Elle est très flexible et permet des personnalisations avancées des profils d'itinéraires.\n",
    "\n",
    "#### <a id='toc2_1_2_'></a>[Fonctionnement des Algorithmes](#toc0_)\n",
    "- Basé sur A* (A-star) pour la recherche du chemin le plus court, avec des heuristiques adaptées aux préférences utilisateur.\n",
    "- Les profils définissent les pondérations pour différents types de segments routiers.\n",
    "- Exemple :\n",
    "    - Un profil peut prioriser les routes plates pour les vélos en modifiant la pondération des dénivelés.\n",
    "\n",
    "#### <a id='toc2_1_3_'></a>[Exemple de code](#toc0_)\n",
    "Voici comment utiliser BRouter pour générer un itinéraire :\n"
   ]
  },
  {
   "cell_type": "code",
   "execution_count": 5,
   "id": "4498bb12",
   "metadata": {},
   "outputs": [
    {
     "name": "stdout",
     "output_type": "stream",
     "text": [
      "Erreur dans la récupération de l'itinéraire http://brouter.de/brouter?lonlats=48.8566,2.3522|51.5074,-0.1278&profile=car\n"
     ]
    }
   ],
   "source": [
    "import requests\n",
    "\n",
    "def get_route(start, end):\n",
    "    # Convertir les coordonnées au format 'latitude,longitude'\n",
    "    start_coords = f\"{start[0]},{start[1]}\"\n",
    "    end_coords = f\"{end[0]},{end[1]}\"\n",
    "    url = f\"http://brouter.de/brouter?lonlats={start_coords}|{end_coords}&profile=car\"\n",
    "    \n",
    "    response = requests.get(url)\n",
    "    \n",
    "    if response.status_code == 200:\n",
    "        return response.text  # Retourne le fichier GPX contenant le trajet\n",
    "    else:\n",
    "        print(\"Erreur dans la récupération de l'itinéraire \" + url)\n",
    "        return None\n",
    "\n",
    "# Exemple d’utilisation\n",
    "start = (48.8566, 2.3522)  # Paris\n",
    "end = (51.5074, -0.1278)  # Londres\n",
    "\n",
    "route = get_route(start, end)\n",
    "\n",
    "if route:\n",
    "    print(\"Itinéraire récupéré avec succès\")\n"
   ]
  },
  {
   "cell_type": "markdown",
   "id": "dffe74c3",
   "metadata": {},
   "source": [
    "### <a id='toc2_2_'></a>[OsmAnd](#toc0_)"
   ]
  },
  {
   "cell_type": "markdown",
   "id": "dfb0b41f",
   "metadata": {},
   "source": [
    "\n",
    "### <a id='toc2_3_'></a>[Description](#toc0_)\n",
    "OsmAnd est une application open-source de navigation basée sur les données d'OpenStreetMap (OSM). Elle propose des fonctionnalités hors ligne, ce qui en fait un choix idéal pour les zones à faible connectivité.\n",
    "\n",
    "### <a id='toc2_4_'></a>[Fonctionnement des Algorithmes](#toc0_)\n",
    "- Basé sur Dijkstra ou des variantes d'A* pour une exploration des chemins\n",
    "- Optimisé pour des calculs embarqués\n",
    "- Support de plugins comme le routage BRouter pour des besoins spécifiques\n",
    "\n",
    "### <a id='toc2_5_'></a>[Structure du Code](#toc0_)\n",
    "\n",
    "Cette méthode, écrite en Java, est utilisée dans une application de routage pour calculer un chemin optimal entre deux points (comme un GPS). L'algorithme sous-jacent est basé sur **Dijkstra** ou **A***, avec des ajustements pour gérer la mémoire et la direction.\n",
    "\n",
    "\n",
    "#### <a id='toc2_5_1_'></a>[Initialisation des structures de données](#toc0_)\n"
   ]
  },
  {
   "cell_type": "markdown",
   "id": "5077159a",
   "metadata": {},
   "source": [
    "\n",
    "```java\n",
    "ctx.memoryOverhead = 1000;\n",
    "// Initializing priority queue to visit way segments \n",
    "PriorityQueue<RouteSegmentCost> graphDirectSegments = new PriorityQueue<>(50, new SegmentsComparator());\n",
    "PriorityQueue<RouteSegmentCost> graphReverseSegments = new PriorityQueue<>(50, new SegmentsComparator());\n",
    "// Set to not visit one segment twice (stores road.id << X + segmentStart)\n",
    "TLongObjectHashMap<RouteSegment> visitedDirectSegments = new TLongObjectHashMap<>();\n",
    "TLongObjectHashMap<RouteSegment> visitedOppositeSegments = new TLongObjectHashMap<>();\n",
    "``` "
   ]
  },
  {
   "cell_type": "markdown",
   "id": "30a54d58",
   "metadata": {},
   "source": [
    "##### Explication :\n",
    "\n",
    "1. Initialisation mémoire : La surcharge mémoire initiale est définie.\n",
    "2. Files de priorité :\n",
    "    - `graphDirectSegments` et `graphReverseSegments` stockent les segments de route en attente, triés par coût.\n",
    "3. Suivi des segments visités : Les tables de hachage `visitedDirectSegments` et `visitedOppositeSegments` permettent d'éviter de visiter deux fois un même segment."
   ]
  },
  {
   "cell_type": "markdown",
   "id": "6a260be2",
   "metadata": {},
   "source": [
    "#### <a id='toc2_5_2_'></a>[Direction de la recherche (avant/arrière)](#toc0_)\n",
    "\n",
    "```java\n",
    "boolean onlyBackward = ctx.getPlanRoadDirection() < 0;\n",
    "boolean onlyForward = ctx.getPlanRoadDirection() > 0;\n",
    "boolean forwardSearch = !onlyForward;\n",
    "```"
   ]
  },
  {
   "cell_type": "markdown",
   "id": "bb3e3136",
   "metadata": {},
   "source": [
    "##### Explication :\n",
    "\n",
    "`onlyBackward` : Recherche uniquement vers l'arrière.   \n",
    "\n",
    "`onlyForward` : Recherche uniquement vers l'avant.\n",
    "\n",
    "`forwardSearch` : Recherche dans les deux directions si aucune contrainte n'est appliquée.\n"
   ]
  },
  {
   "cell_type": "markdown",
   "id": "025f7475",
   "metadata": {},
   "source": [
    "#### <a id='toc2_5_3_'></a>[Initialisation de la recherche Dijkstra](#toc0_)\n",
    "\n",
    "```java\n",
    "ctx.dijkstraMode = end == null ? 1 : (start == null ? -1 : 0);\n",
    "if (ctx.dijkstraMode == 1) {\n",
    "    start.others = null;\n",
    "    forwardSearch = true;\n",
    "} else if (ctx.dijkstraMode == -1) {\n",
    "    end.others = null;\n",
    "    forwardSearch = false;\n",
    "}\n",
    "```"
   ]
  },
  {
   "cell_type": "markdown",
   "id": "0fbe2f20",
   "metadata": {},
   "source": [
    "Explication :\n",
    "\n",
    "1. Mode de recherche (`dijkstraMode`) :\n",
    "    - `1` : Recherche uniquement à partir de la fin.\n",
    "    - `-1` : Recherche uniquement à partir du début.\n",
    "    - `0` : Recherche bidirectionnelle.\n",
    "2. Le comportement est ajusté en conséquence : la recherche est orientée vers l'avant ou l'arrière selon les points de départ/arrivée disponibles."
   ]
  },
  {
   "cell_type": "markdown",
   "id": "8086bca5",
   "metadata": {},
   "source": [
    "#### <a id='toc2_5_4_'></a>[Boucle principale de recherche](#toc0_)\n",
    "\n",
    "```java\n",
    "while (!graphSegments.isEmpty()) {\n",
    "    RouteSegmentCost cst = graphSegments.poll();\n",
    "    RouteSegment segment = cst.segment;\n",
    "\n",
    "    // Met à jour l'utilisation mémoire\n",
    "    int visitedCnt = (start != null ? visitedDirectSegments.size() : 0) \n",
    "                     + (end != null ? visitedOppositeSegments.size() : 0);\n",
    "    ctx.memoryOverhead = visitedCnt * STANDARD_ROAD_VISITED_OVERHEAD +\n",
    "                         (graphDirectSegments.size() + graphReverseSegments.size()) * STANDARD_ROAD_IN_QUEUE_OVERHEAD;\n",
    "\n",
    "    if (TRACE_ROUTING) {\n",
    "        printRoad(\">\", segment, !forwardSearch);\n",
    "    }\n",
    "\n",
    "    // Vérifie si la mémoire dépasse la limite\n",
    "    if (ctx.memoryOverhead > ctx.config.memoryLimitation * 0.9) {\n",
    "        throw new IllegalStateException(\"Not enough memory.\");\n",
    "    }\n",
    "\n",
    "    // Vérifie si le segment a déjà été visité\n",
    "    boolean visited = (forwardSearch ? visitedDirectSegments : visitedOppositeSegments)\n",
    "                        .containsKey(calculateRoutePointId(segment));\n",
    "    if (visited) {\n",
    "        continue; // Ignore le segment déjà visité\n",
    "    }\n",
    "\n",
    "    // Traitement spécifique pour les segments finaux\n",
    "    if (segment instanceof FinalRouteSegment) {\n",
    "        finalSegment = (FinalRouteSegment) segment;\n",
    "        break; // Arrête la recherche\n",
    "    }\n",
    "}\n",
    "```"
   ]
  },
  {
   "cell_type": "markdown",
   "id": "70ac336b",
   "metadata": {},
   "source": [
    "##### Explication :\n",
    "\n",
    "- 1. Extraction d'un segment : Le segment avec le coût le plus bas est extrait de la file de priorité.\n",
    "- 2. Calcul de la surcharge mémoire : Estimation basée sur le nombre de segments visités et en attente.\n",
    "- 3. Vérification de la mémoire : Une exception est levée si l'utilisation dépasse une limite.\n",
    "- 4. Segments déjà visités : Les segments déjà explorés sont ignorés pour éviter les boucles.\n",
    "- 5. Arrêt sur le segment final : Si un segment final est trouvé, la boucle se termine."
   ]
  },
  {
   "cell_type": "markdown",
   "id": "e4e1fd01",
   "metadata": {},
   "source": [
    "#### <a id='toc2_5_5_'></a>[Gestion des directions multiples](#toc0_)\n",
    "\n",
    "```java\n",
    "if (ctx.planRouteIn2Directions()) {\n",
    "    if (visitedDirectSegments.isEmpty() && !graphDirectSegments.isEmpty()) {\n",
    "        forwardSearch = true;\n",
    "    } else if (visitedOppositeSegments.isEmpty() && !graphReverseSegments.isEmpty()) {\n",
    "        forwardSearch = false;\n",
    "    } else if (graphDirectSegments.isEmpty() || graphReverseSegments.isEmpty()) {\n",
    "        return finalSegment; // Plus de segments à explorer\n",
    "    }\n",
    "}\n",
    "```"
   ]
  },
  {
   "cell_type": "markdown",
   "id": "613d566a",
   "metadata": {},
   "source": [
    "##### Explication :\n",
    "\n",
    "- Lorsque la recherche bidirectionnelle est activée, l'algorithme alterne entre les directions avant et arrière en fonction des segments disponibles.\n",
    "- Si aucun segment ne peut être exploré, le calcul s'arrête."
   ]
  },
  {
   "cell_type": "markdown",
   "id": "45b81b38",
   "metadata": {},
   "source": [
    "#### <a id='toc2_5_6_'></a>[Retour du résultat](#toc0_)\n",
    "\n",
    "```java\n",
    "if (ctx.calculationProgress != null) {\n",
    "    ctx.calculationProgress.visitedDirectSegments += visitedDirectSegments.size();\n",
    "    ctx.calculationProgress.visitedOppositeSegments += visitedOppositeSegments.size();\n",
    "}\n",
    "return finalSegment;\n",
    "```"
   ]
  },
  {
   "cell_type": "markdown",
   "id": "4b7fb710",
   "metadata": {},
   "source": [
    "##### Explication :\n",
    "\n",
    "- **Progression** : La progression du calcul est mise à jour pour inclure les segments visités.\n",
    "- **Résultat final** : Le segment final trouvé est retourné."
   ]
  },
  {
   "cell_type": "markdown",
   "id": "49a407fb",
   "metadata": {},
   "source": [
    "#### <a id='toc2_5_7_'></a>[Conclusion](#toc0_)\n",
    "La méthode `searchRouteInternal` combine plusieurs mécanismes sophistiqués pour optimiser la recherche de chemin :\n",
    "\n",
    "- **Algorithme principal** : Basé sur **Dijkstra**, mais avec des ajustements pour inclure des éléments d’**A*** si une heuristique est utilisée.\n",
    "- **Gestion de la mémoire** : Limite l’utilisation excessive de mémoire pour garantir une exécution stable.\n",
    "- **Recherche bidirectionnelle** : Permet d'explorer le chemin à partir des deux extrémités si nécessaire."
   ]
  }
 ],
 "metadata": {
  "kernelspec": {
   "display_name": "mon_env",
   "language": "python",
   "name": "python3"
  },
  "language_info": {
   "codemirror_mode": {
    "name": "ipython",
    "version": 3
   },
   "file_extension": ".py",
   "mimetype": "text/x-python",
   "name": "python",
   "nbconvert_exporter": "python",
   "pygments_lexer": "ipython3",
   "version": "3.12.7"
  }
 },
 "nbformat": 4,
 "nbformat_minor": 5
}
