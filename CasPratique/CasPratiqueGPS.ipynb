{
 "cells": [
  {
   "cell_type": "markdown",
   "id": "0e7831d0",
   "metadata": {},
   "source": [
    "# Étude des Applications GPS : Cas pratiques et Algorithmes"
   ]
  },
  {
   "cell_type": "markdown",
   "id": "20a9daf2",
   "metadata": {},
   "source": [
    "\n",
    "Ce notebook explore le fonctionnement de quatre applications GPS : Google Maps, Waze, BRouter et OsmAnd. \n",
    "Il est divisé en deux catégories :\n",
    "\n",
    "- **Cas non open-source** : Google Maps, Waze.\n",
    "- **Cas open-source** : BRouter, OsmAnd.\n"
   ]
  },
  {
   "cell_type": "markdown",
   "id": "d40fb8e2",
   "metadata": {},
   "source": [
    "**Sommaire**<a id='toc0_'></a>    \n",
    "- [Cas non open-source](#toc1_)    \n",
    "  - [Google Maps](#toc1_1_)    \n",
    "    - [Description](#toc1_1_1_)    \n",
    "    - [Fonctionnement des Algorithmes](#toc1_1_2_)    \n",
    "  - [Waze](#toc1_2_)    \n",
    "    - [Description](#toc1_2_1_)    \n",
    "    - [Fonctionnement des Algorithmes](#toc1_2_2_)    \n",
    "- [Cas open-source](#toc2_)    \n",
    "  - [BRouter](#toc2_1_)    \n",
    "    - [Description](#toc2_1_1_)    \n",
    "    - [Fonctionnement des Algorithmes](#toc2_1_2_)    \n",
    "    - [Exemple de code](#toc2_1_3_)    \n",
    "  - [OsmAnd](#toc2_2_)    \n",
    "  - [Description](#toc2_3_)    \n",
    "  - [Fonctionnement des Algorithmes](#toc2_4_)    \n",
    "  - [Structure du Code](#toc2_5_)    \n",
    "    - [Initialisation des structures de données](#toc2_5_1_)    \n",
    "    - [Planification de la recherche](#toc2_5_2_)    \n",
    "  - [Processus de recherche](#toc2_6_)    \n",
    "    - [Initialisation de la recherche](#toc2_6_1_)    \n",
    "    - [Gestion des algorithmes](#toc2_6_2_)    \n",
    "      - [Dijkstra](#toc2_6_2_1_)    \n",
    "      - [A*](#toc2_6_2_2_)    \n",
    "    - [Exploration des segments voisins](#toc2_6_3_)    \n",
    "    - [Gestion mémoire et interruptions](#toc2_6_4_)    \n",
    "    - [Retour du résultat](#toc2_6_5_)    \n",
    "- [Résumé](#toc3_)    \n",
    "\n",
    "<!-- vscode-jupyter-toc-config\n",
    "\tnumbering=false\n",
    "\tanchor=true\n",
    "\tflat=false\n",
    "\tminLevel=2\n",
    "\tmaxLevel=6\n",
    "\t/vscode-jupyter-toc-config -->\n",
    "<!-- THIS CELL WILL BE REPLACED ON TOC UPDATE. DO NOT WRITE YOUR TEXT IN THIS CELL -->"
   ]
  },
  {
   "cell_type": "markdown",
   "id": "32a15d65",
   "metadata": {},
   "source": [
    "## <a id='toc1_'></a>[Cas non open-source](#toc0_)"
   ]
  },
  {
   "cell_type": "markdown",
   "id": "155fb302",
   "metadata": {},
   "source": [
    "### <a id='toc1_1_'></a>[Google Maps](#toc0_)"
   ]
  },
  {
   "cell_type": "markdown",
   "id": "4783a010",
   "metadata": {},
   "source": [
    "\n",
    "#### <a id='toc1_1_1_'></a>[Description](#toc0_)\n",
    "Google Maps est une application populaire de cartographie et de navigation, offrant des itinéraires en voiture, \n",
    "à pied, à vélo, et via les transports en commun. Elle utilise des données en temps réel pour proposer des \n",
    "trajets optimisés.\n",
    "\n",
    "#### <a id='toc1_1_2_'></a>[Fonctionnement des Algorithmes](#toc0_)\n",
    "Les algorithmes utilisés par Google Maps combinent plusieurs techniques :\n",
    "\n",
    "<div style=\"text-align: justify;\">\n",
    "\n",
    "- **Dijkstra et A*** : Ces algorithmes trouvent le chemin le plus court entre deux points.\n",
    "- **Données en temps réel** : Des informations sur le trafic, les accidents ou les fermetures de routes \n",
    "  sont intégrées à l'algorithme.\n",
    "- **Apprentissage automatique** : Google utilise des modèles d'apprentissage automatique pour anticiper \n",
    "  les conditions de trafic.\n",
    "- **Historique des déplacements** : Les données des utilisateurs sont utilisées pour améliorer les prédictions \n",
    "  de trafic.\n",
    "- **Réseaux Neuronaux Graphiques** : Les réseaux neuronaux graphiques (GNN) sont une extension des réseaux neuronaux conçue pour traiter des données structurées en graphes, comme les réseaux routiers. Google Maps les utilise pour modéliser les supersegments : chaque segment de route est un nœud, et les intersections forment des connexions (arêtes). Les GNN intègrent les données locales (trafic sur un segment) et globales (effets d'embouteillages voisins) pour prédire efficacement des temps de trajet (ETA) en combinant historique et données en temps réel.\n",
    "\n",
    "</div>\n",
    "\n",
    "*Note : Le code source de Google Maps n'est pas accessible.*\n"
   ]
  },
  {
   "cell_type": "markdown",
   "id": "fdeb90b0",
   "metadata": {},
   "source": [
    "### <a id='toc1_2_'></a>[Waze](#toc0_)"
   ]
  },
  {
   "cell_type": "markdown",
   "id": "eaf6f5e9",
   "metadata": {},
   "source": [
    "\n",
    "#### <a id='toc1_2_1_'></a>[Description](#toc0_)\n",
    "Waze est une application GPS communautaire qui utilise les rapports des utilisateurs pour informer sur les \n",
    "conditions de trafic, les accidents et autres événements en temps réel.\n",
    "\n",
    "#### <a id='toc1_2_2_'></a>[Fonctionnement des Algorithmes](#toc0_)\n",
    "- Waze utilise des algorithmes similaires à ceux de Google Maps pour calculer les itinéraires optimaux.\n",
    "- Les données utilisateurs sont au cœur de l'application : elles alimentent en temps réel les décisions de \n",
    "  recalcul d'itinéraires.\n",
    "- Les trajets sont souvent adaptés pour éviter des zones à trafic élevé grâce aux rapports communautaires.\n",
    "\n",
    "*Note : Waze, bien qu'appartenant à Google, conserve une approche distincte en termes de données.*\n"
   ]
  },
  {
   "cell_type": "markdown",
   "id": "b9c9f6fb",
   "metadata": {},
   "source": [
    "## <a id='toc2_'></a>[Cas open-source](#toc0_)"
   ]
  },
  {
   "cell_type": "markdown",
   "id": "4c4d3d4b",
   "metadata": {},
   "source": [
    "### <a id='toc2_1_'></a>[BRouter](#toc0_)"
   ]
  },
  {
   "cell_type": "markdown",
   "id": "921cb863",
   "metadata": {},
   "source": [
    "\n",
    "#### <a id='toc2_1_1_'></a>[Description](#toc0_)\n",
    "BRouter est une application open-source spécialisée dans le calcul d'itinéraires pour les cyclistes et \n",
    "les amateurs de randonnées. Elle est très flexible et permet des personnalisations avancées des profils d'itinéraires.\n",
    "\n",
    "#### <a id='toc2_1_2_'></a>[Fonctionnement des Algorithmes](#toc0_)\n",
    "- Basé sur A* (A-star) pour la recherche du chemin le plus court, avec des heuristiques adaptées aux préférences utilisateur.\n",
    "- Les profils définissent les pondérations pour différents types de segments routiers.\n",
    "- Exemple :\n",
    "    - Un profil peut prioriser les routes plates pour les vélos en modifiant la pondération des dénivelés.\n",
    "\n",
    "#### <a id='toc2_1_3_'></a>[Exemple de code](#toc0_)\n",
    "Voici comment utiliser BRouter pour générer un itinéraire :\n"
   ]
  },
  {
   "cell_type": "code",
   "execution_count": 5,
   "id": "4498bb12",
   "metadata": {},
   "outputs": [
    {
     "name": "stdout",
     "output_type": "stream",
     "text": [
      "Erreur dans la récupération de l'itinéraire http://brouter.de/brouter?lonlats=48.8566,2.3522|51.5074,-0.1278&profile=car\n"
     ]
    }
   ],
   "source": [
    "import requests\n",
    "\n",
    "def get_route(start, end):\n",
    "    # Convertir les coordonnées au format 'latitude,longitude'\n",
    "    start_coords = f\"{start[0]},{start[1]}\"\n",
    "    end_coords = f\"{end[0]},{end[1]}\"\n",
    "    url = f\"http://brouter.de/brouter?lonlats={start_coords}|{end_coords}&profile=car\"\n",
    "    \n",
    "    response = requests.get(url)\n",
    "    \n",
    "    if response.status_code == 200:\n",
    "        return response.text  # Retourne le fichier GPX contenant le trajet\n",
    "    else:\n",
    "        print(\"Erreur dans la récupération de l'itinéraire \" + url)\n",
    "        return None\n",
    "\n",
    "# Exemple d’utilisation\n",
    "start = (48.8566, 2.3522)  # Paris\n",
    "end = (51.5074, -0.1278)  # Londres\n",
    "\n",
    "route = get_route(start, end)\n",
    "\n",
    "if route:\n",
    "    print(\"Itinéraire récupéré avec succès\")\n"
   ]
  },
  {
   "cell_type": "markdown",
   "id": "f31e9bba",
   "metadata": {},
   "source": [
    "### <a id='toc2_2_'></a>[OsmAnd](#toc0_)"
   ]
  },
  {
   "cell_type": "markdown",
   "id": "dc64d4b1",
   "metadata": {},
   "source": [
    "\n",
    "### <a id='toc2_3_'></a>[Description](#toc0_)\n",
    "OsmAnd est une application open-source de navigation basée sur les données d'OpenStreetMap (OSM). Elle propose des fonctionnalités hors ligne, ce qui en fait un choix idéal pour les zones à faible connectivité.\n",
    "\n",
    "### <a id='toc2_4_'></a>[Fonctionnement des Algorithmes](#toc0_)\n",
    "- Basé sur Dijkstra ou des variantes d'A* pour une exploration des chemins\n",
    "- Optimisé pour des calculs embarqués\n",
    "- Support de plugins comme le routage BRouter pour des besoins spécifiques\n",
    "\n",
    "### <a id='toc2_5_'></a>[Structure du Code](#toc0_)\n",
    "\n",
    "Cette méthode, écrite en Java, est utilisée dans une application de routage pour calculer un chemin optimal entre deux points (comme un GPS). L'algorithme sous-jacent est basé sur **Dijkstra** ou **A***, avec des ajustements pour gérer la mémoire et la direction.\n",
    "\n",
    "---\n",
    "\n",
    "#### 1. Initialisation des structures de données\n"
   ]
  },
  {
   "cell_type": "markdown",
   "id": "5077159a",
   "metadata": {},
   "source": [
    "\n",
    "```java\n",
    "ctx.memoryOverhead = 1000;\n",
    "// Initializing priority queue to visit way segments \n",
    "PriorityQueue<RouteSegmentCost> graphDirectSegments = new PriorityQueue<>(50, new SegmentsComparator());\n",
    "PriorityQueue<RouteSegmentCost> graphReverseSegments = new PriorityQueue<>(50, new SegmentsComparator());\n",
    "// Set to not visit one segment twice (stores road.id << X + segmentStart)\n",
    "TLongObjectHashMap<RouteSegment> visitedDirectSegments = new TLongObjectHashMap<>();\n",
    "TLongObjectHashMap<RouteSegment> visitedOppositeSegments = new TLongObjectHashMap<>();\n",
    "``` "
   ]
  },
  {
   "cell_type": "markdown",
   "id": "82de09b8",
   "metadata": {},
   "source": [
    "##### Explication :\n",
    "\n",
    "1. Initialisation mémoire : La surcharge mémoire initiale est définie.\n",
    "2. Files de priorité :\n",
    "    - `graphDirectSegments` et `graphReverseSegments` stockent les segments de route en attente, triés par coût.\n",
    "3. Suivi des segments visités : Les tables de hachage `visitedDirectSegments` et `visitedOppositeSegments` permettent d'éviter de visiter deux fois un même segment."
   ]
  },
  {
   "cell_type": "markdown",
   "id": "88313c92",
   "metadata": {},
   "source": [
    "##### Direction de la recherche (avant/arrière)\n",
    "\n",
    "```java\n",
    "boolean onlyBackward = ctx.getPlanRoadDirection() < 0;\n",
    "boolean onlyForward = ctx.getPlanRoadDirection() > 0;\n",
    "boolean forwardSearch = !onlyForward;\n",
    "```"
   ]
  },
  {
   "cell_type": "markdown",
   "id": "a1611906",
   "metadata": {},
   "source": [
    "##### Explication :\n",
    "\n",
    "`onlyBackward` : Recherche uniquement vers l'arrière.   \n",
    "\n",
    "`onlyForward` : Recherche uniquement vers l'avant.\n",
    "\n",
    "`forwardSearch` : Recherche dans les deux directions si aucune contrainte n'est appliquée.\n"
   ]
  }
 ],
 "metadata": {
  "kernelspec": {
   "display_name": "mon_env",
   "language": "python",
   "name": "python3"
  },
  "language_info": {
   "codemirror_mode": {
    "name": "ipython",
    "version": 3
   },
   "file_extension": ".py",
   "mimetype": "text/x-python",
   "name": "python",
   "nbconvert_exporter": "python",
   "pygments_lexer": "ipython3",
   "version": "3.12.7"
  }
 },
 "nbformat": 4,
 "nbformat_minor": 5
}
