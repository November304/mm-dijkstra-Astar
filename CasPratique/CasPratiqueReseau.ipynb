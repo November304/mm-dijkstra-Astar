{
 "cells": [
  {
   "cell_type": "markdown",
   "metadata": {},
   "source": [
    "# Cas pratique en réseau\n",
    "\n"
   ]
  },
  {
   "cell_type": "markdown",
   "metadata": {},
   "source": [
    "**Table of contents**<a id='toc0_'></a>    \n",
    "- [Introduction](#toc1_)    \n",
    "- [Cas 1 : newtorkx](#toc2_)    \n",
    "  - [Description](#toc2_1_)    \n",
    "  - [Algorithmes utilisés](#toc2_2_)    \n",
    "    - [Dijkstra](#toc2_2_1_)    \n",
    "    - [A*](#toc2_2_2_)    \n",
    "    - [Floyd-Warshall](#toc2_2_3_)    \n",
    "    - [Bellman-Ford](#toc2_2_4_)    \n",
    "- [Cas 2 : OSPF](#toc3_)    \n",
    "  - [Description](#toc3_1_)    \n",
    "  - [Source :](#toc3_2_)    \n",
    "\n",
    "<!-- vscode-jupyter-toc-config\n",
    "\tnumbering=false\n",
    "\tanchor=true\n",
    "\tflat=false\n",
    "\tminLevel=2\n",
    "\tmaxLevel=4\n",
    "\t/vscode-jupyter-toc-config -->\n",
    "<!-- THIS CELL WILL BE REPLACED ON TOC UPDATE. DO NOT WRITE YOUR TEXT IN THIS CELL -->"
   ]
  },
  {
   "cell_type": "markdown",
   "metadata": {},
   "source": [
    "## <a id='toc1_'></a>[Introduction](#toc0_)\n",
    "\n",
    "Description de ce qu'on va faire"
   ]
  },
  {
   "cell_type": "markdown",
   "metadata": {},
   "source": [
    "## <a id='toc2_'></a>[Cas 1 : newtorkx](#toc0_)\n",
    "\n",
    "### <a id='toc2_1_'></a>[Description](#toc0_)\n",
    "\n",
    "NetworkX est une bibliothèque Python utilisée pour la création, la manipulation et l'étude de structures de graphes et réseaux complexes. Elle offre des outils pour représenter des graphes sous forme de structures de données (orientés, non orientés, pondérés, etc.) et propose des algorithmes avancés pour analyser leurs propriétés, comme les plus courts chemins, la centralité, la connectivité, et bien plus.\n",
    "\n",
    "Github networkx : https://github.com/networkx/networkx\n",
    "\n",
    "### <a id='toc2_2_'></a>[Algorithmes utilisés](#toc0_)\n",
    "\n",
    "Networkx propose plusieurs algorithmes pour travailler sur les graphes : \n",
    "\n"
   ]
  },
  {
   "cell_type": "code",
   "execution_count": 7,
   "metadata": {},
   "outputs": [],
   "source": [
    "import networkx as nx\n",
    "\n",
    "# Création du graphe pondéré\n",
    "G = nx.DiGraph()\n",
    "G.add_weighted_edges_from([(\"A\", \"B\", 1), (\"B\", \"C\", 2), (\"A\", \"C\", 4), (\"C\", \"D\", 1)])"
   ]
  },
  {
   "cell_type": "markdown",
   "metadata": {},
   "source": [
    "\n",
    "#### <a id='toc2_2_1_'></a>[Dijkstra](#toc0_)\n",
    "\n",
    "L'algorithme de Dijkstra est utilisé pour trouver le plus court chemin dans un graphe pondéré avec des poids positifs.\n",
    "Il fonctionne en explorant systématiquement les chemins les moins coûteux depuis le sommet de départ, garantissant la\n",
    "solution optimale.\n"
   ]
  },
  {
   "cell_type": "code",
   "execution_count": 8,
   "metadata": {},
   "outputs": [
    {
     "name": "stdout",
     "output_type": "stream",
     "text": [
      "Plus court chemin (Dijkstra) : ['A', 'B', 'C', 'D']\n"
     ]
    }
   ],
   "source": [
    "# Plus court chemin de A à D\n",
    "shortest_path = nx.dijkstra_path(G, source=\"A\", target=\"D\", weight=\"weight\")\n",
    "print(\"Plus court chemin (Dijkstra) :\", shortest_path)"
   ]
  },
  {
   "cell_type": "markdown",
   "metadata": {},
   "source": [
    "\n",
    "#### <a id='toc2_2_2_'></a>[A*](#toc0_)\n",
    "\n",
    "L'algorithme A* améliore Dijkstra en utilisant une fonction heuristique qui estime la distance restante jusqu'à la cible.\n",
    "Cela permet de réduire le nombre de nœuds explorés et accélère la recherche du chemin optimal.\n"
   ]
  },
  {
   "cell_type": "code",
   "execution_count": 9,
   "metadata": {},
   "outputs": [
    {
     "name": "stdout",
     "output_type": "stream",
     "text": [
      "Plus court chemin (A*) : ['A', 'B', 'C', 'D']\n"
     ]
    }
   ],
   "source": [
    "# Heuristique basée sur une distance fictive\n",
    "def heuristic(u, v):\n",
    "    return abs(ord(u) - ord(v))  # Différence simple des codes ASCII\n",
    "\n",
    "# Plus court chemin utilisant A*\n",
    "a_star_path = nx.astar_path(G, source=\"A\", target=\"D\", heuristic=heuristic, weight=\"weight\")\n",
    "print(\"Plus court chemin (A*) :\", a_star_path)\n"
   ]
  },
  {
   "cell_type": "markdown",
   "metadata": {},
   "source": [
    "\n",
    "#### <a id='toc2_2_3_'></a>[Floyd-Warshall](#toc0_)\n",
    "\n",
    "L'algorithme de Floyd-Warshall trouve les plus courts chemins entre tous les couples de nœuds dans un graphe pondéré.\n",
    "Il utilise une approche dynamique, mise à jour progressive des distances via des sommets intermédiaires.\n",
    "\n",
    "**Utilisation réelle dans les réseaux** :\n",
    "- Calcul des chemins optimaux entre tous les pairs de routeurs dans un réseau.\n",
    "- Analyse de la connectivité dans les réseaux sociaux.\n"
   ]
  },
  {
   "cell_type": "code",
   "execution_count": 10,
   "metadata": {},
   "outputs": [
    {
     "name": "stdout",
     "output_type": "stream",
     "text": [
      "Plus courts chemins (Floyd-Warshall) : {'A': defaultdict(<function floyd_warshall_predecessor_and_distance.<locals>.<lambda>.<locals>.<lambda> at 0x0000019035E13250>, {'A': 0, 'B': 1, 'C': 3, 'D': 4}), 'B': defaultdict(<function floyd_warshall_predecessor_and_distance.<locals>.<lambda>.<locals>.<lambda> at 0x0000019035E135B0>, {'B': 0, 'C': 2, 'A': inf, 'D': 3}), 'C': defaultdict(<function floyd_warshall_predecessor_and_distance.<locals>.<lambda>.<locals>.<lambda> at 0x0000019035E136D0>, {'C': 0, 'D': 1, 'A': inf, 'B': inf}), 'D': defaultdict(<function floyd_warshall_predecessor_and_distance.<locals>.<lambda>.<locals>.<lambda> at 0x0000019035E137F0>, {'D': 0, 'A': inf, 'B': inf, 'C': inf})}\n"
     ]
    }
   ],
   "source": [
    "# Matrice des plus courts chemins pour tous les nœuds\n",
    "shortest_paths_matrix = dict(nx.floyd_warshall(G, weight=\"weight\"))\n",
    "print(\"Plus courts chemins (Floyd-Warshall) :\", shortest_paths_matrix)"
   ]
  },
  {
   "cell_type": "markdown",
   "metadata": {},
   "source": [
    "\n",
    "#### <a id='toc2_2_4_'></a>[Bellman-Ford](#toc0_)\n",
    "\n",
    "L'algorithme de Bellman-Ford calcule le plus court chemin dans les graphes où les poids peuvent être négatifs.\n",
    "Il explore tous les chemins possibles et mise à jour les coûts minimaux.\n"
   ]
  },
  {
   "cell_type": "code",
   "execution_count": 11,
   "metadata": {},
   "outputs": [
    {
     "name": "stdout",
     "output_type": "stream",
     "text": [
      "Plus court chemin (Bellman-Ford) : ['A', 'B', 'C', 'D']\n"
     ]
    }
   ],
   "source": [
    "# Plus court chemin avec Bellman-Ford\n",
    "shortest_path_bf = nx.bellman_ford_path(G, source=\"A\", target=\"D\", weight=\"weight\")\n",
    "print(\"Plus court chemin (Bellman-Ford) :\", shortest_path_bf)"
   ]
  },
  {
   "cell_type": "markdown",
   "metadata": {},
   "source": [
    "## <a id='toc3_'></a>[Cas 2 : OSPF](#toc0_)\n",
    "\n",
    "### <a id='toc3_1_'></a>[Description](#toc0_)\n",
    "\n",
    "OSPF (Open Shortest Path First) est un protocole de routage d’état de liaison. Il est conçu pour être utilisé au sein d’un seul et même système autonome. Chaque routeur OSPF maintient une base de données identique décrivant la topologie du système dont il fait partie. À partir de cette base de données, une table de routage est calculée en construisant un arbre des chemins les plus courts.\n",
    "\n",
    "\n",
    "\n"
   ]
  },
  {
   "cell_type": "markdown",
   "metadata": {},
   "source": [
    "### Exemple d'utilisation de Dijkstra dans OSPF"
   ]
  },
  {
   "cell_type": "code",
   "execution_count": null,
   "metadata": {},
   "outputs": [],
   "source": [
    "# Code d'exemple a faire"
   ]
  },
  {
   "cell_type": "markdown",
   "metadata": {},
   "source": [
    "### <a id='toc3_2_'></a>[Source :](#toc0_)\n",
    "\n",
    "La version actuelle la plus utilisé est OSPFv2, définie dans la RFC 2328.\n",
    "\n",
    "La RFC de OSPF : https://www.ietf.org/rfc/rfc2328.txt\n",
    "\n",
    "RFC (Request For Comments) : Les RFC sont des documents qui décrivent les protocoles, les procédures, les programmes et les concepts qui constituent Internet. Ils sont écrits et publiés par l'Internet Engineering Task Force (IETF).\n"
   ]
  }
 ],
 "metadata": {
  "kernelspec": {
   "display_name": "Python 3",
   "language": "python",
   "name": "python3"
  },
  "language_info": {
   "codemirror_mode": {
    "name": "ipython",
    "version": 3
   },
   "file_extension": ".py",
   "mimetype": "text/x-python",
   "name": "python",
   "nbconvert_exporter": "python",
   "pygments_lexer": "ipython3",
   "version": "3.10.11"
  }
 },
 "nbformat": 4,
 "nbformat_minor": 2
}
