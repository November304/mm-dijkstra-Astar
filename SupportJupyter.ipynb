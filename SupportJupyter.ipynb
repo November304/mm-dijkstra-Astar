{
 "cells": [
  {
   "cell_type": "markdown",
   "metadata": {},
   "source": [
    "# Présentation des algorithmes de Djikstra et A*."
   ]
  },
  {
   "cell_type": "markdown",
   "metadata": {},
   "source": [
    "## Djikstra\n",
    "\n",
    "### Principe\n",
    "\n",
    "Djikstra est un algorithme de recherche de plus court chemin dans un graphe. Il est basé sur une recherche en largeur. Il est utilisé pour trouver le plus court chemin entre un sommet de départ et tous les autres sommets d'un graphe pondéré. Il est utilisé dans de nombreux domaines, notamment pour les réseaux de télécommunications, les réseaux de transport, les réseaux électriques, etc.\n",
    "\n",
    "### Fonctionnement\n",
    "\n",
    "L'algorithme de Djikstra fonctionne de la manière suivante :\n",
    "\n",
    "1. On initialise un tableau de distances `dist` avec des valeurs infinies pour tous les sommets sauf le sommet de départ, pour lequel on met la distance à 0.\n",
    "2. On crée un ensemble `Q` contenant tous les sommets du graphe.\n",
    "3. Tant que `Q` n'est pas vide, on sélectionne le sommet `u` de `Q` ayant la plus petite distance dans le tableau `dist`.\n",
    "4. On retire `u` de `Q` et on met à jour les distances des sommets adjacents à `u` en fonction de la distance de `u` et des poids des arêtes.\n",
    "5. On répète les étapes 3 et 4 jusqu'à ce que `Q` soit vide."
   ]
  },
  {
   "cell_type": "code",
   "execution_count": 4,
   "metadata": {},
   "outputs": [],
   "source": [
    "import heapq\n",
    "\n",
    "def dijkstra(graph, start):\n",
    "    # Initialisation des distances et de la file de priorité\n",
    "    distances = {vertex: float('infinity') for vertex in graph}\n",
    "    distances[start] = 0\n",
    "    priority_queue = [(0, start)]\n",
    "    \n",
    "    while priority_queue:\n",
    "        current_distance, current_vertex = heapq.heappop(priority_queue)\n",
    "        \n",
    "        # Les nœuds peuvent être ajoutés plusieurs fois à la file de priorité\n",
    "        # Nous devons donc vérifier si nous avons déjà trouvé une meilleure distance\n",
    "        if current_distance > distances[current_vertex]:\n",
    "            continue\n",
    "        \n",
    "        # Vérifier les voisins du nœud actuel\n",
    "        for neighbor, weight in graph[current_vertex].items():\n",
    "            distance = current_distance + weight\n",
    "            \n",
    "            # Si une distance plus courte est trouvée\n",
    "            if distance < distances[neighbor]:\n",
    "                distances[neighbor] = distance\n",
    "                heapq.heappush(priority_queue, (distance, neighbor))\n",
    "    \n",
    "    return distances\n",
    "\n"
   ]
  },
  {
   "cell_type": "markdown",
   "metadata": {},
   "source": [
    "Voici un exemple d'algorithmes de Djikstra en Python \n",
    "\n",
    "Et en dessous l'execution de l'algorithme sur un graphe simple"
   ]
  },
  {
   "cell_type": "code",
   "execution_count": 5,
   "metadata": {},
   "outputs": [
    {
     "name": "stdout",
     "output_type": "stream",
     "text": [
      "{'A': 0, 'B': 1, 'C': 3, 'D': 4}\n"
     ]
    }
   ],
   "source": [
    "# Exemple de graphe pondéré\n",
    "graph = {\n",
    "    'A': {'B': 1, 'C': 4},\n",
    "    'B': {'A': 1, 'C': 2, 'D': 5},\n",
    "    'C': {'A': 4, 'B': 2, 'D': 1},\n",
    "    'D': {'B': 5, 'C': 1}\n",
    "}\n",
    "\n",
    "# Calculer les distances depuis le sommet 'A'\n",
    "distances = dijkstra(graph, 'A')\n",
    "print(distances)"
   ]
  },
  {
   "cell_type": "markdown",
   "metadata": {},
   "source": [
    "## A*\n",
    "\n",
    "### Principe\n",
    "\n",
    "A* est un algorithme de recherche de plus court chemin dans un graphe pondéré, utilisant une approche de recherche informée. Il est utilisé pour trouver le chemin le plus court entre un sommet de départ et un sommet d'arrivée, avec des applications dans les jeux vidéo, la robotique, et la planification de trajets.\n",
    "\n",
    "### Fonctionnement\n",
    "\n",
    "L'algorithme A* fonctionne de la manière suivante :\n",
    "\n",
    "1. On initialise un tableau de coûts `g` avec des valeurs infinies pour tous les sommets sauf le sommet de départ, où `g` est 0. On initialise également `f` pour chaque nœud, où `f = g + h` (`h` étant l'estimation heuristique vers le but).\n",
    "2. On crée deux ensembles : `Open` pour les nœuds à explorer (initialisé avec le sommet de départ) et `Closed` pour ceux déjà explorés.\n",
    "3. Tant que `Open` n'est pas vide, on sélectionne le nœud `u` de `Open` ayant la plus petite valeur de `f`.\n",
    "4. Si `u` est le sommet d'arrivée, le chemin est trouvé et l'algorithme s'arrête.\n",
    "5. Sinon, on déplace `u` de `Open` à `Closed` et met à jour les coûts `g` et `f` des sommets adjacents de `u` en fonction des poids des arêtes et de l'heuristique `h`.\n",
    "6. On répète les étapes 3 à 5 jusqu'à atteindre le nœud d'arrivée ou épuiser `Open`.\n",
    "\n",
    "A* se distingue par l'utilisation de l'heuristique `h`, ce qui le rend plus rapide pour certains graphes que Dijkstra.\n"
   ]
  },
  {
   "cell_type": "code",
   "execution_count": 6,
   "metadata": {},
   "outputs": [],
   "source": []
  },
  {
   "cell_type": "code",
   "execution_count": null,
   "metadata": {},
   "outputs": [],
   "source": [
    "class Noeud:\n",
    "    def __init__(self, position, parent=None):\n",
    "        self.position = position  # Position (x, y) du noeud\n",
    "        self.parent = parent      # Noeud parent pour reconstruire le chemin\n",
    "        self.g = 0  # Coût depuis le départ jusqu'à ce noeud\n",
    "        self.h = 0  # Heuristique, estimation du coût restant jusqu'à l'objectif\n",
    "        self.f = 0  # f = g + h, coût total estimé\n",
    "\n",
    "    def __lt__(self, other):\n",
    "        return self.f < other.f  # Comparaison pour la priorité dans la file\n"
   ]
  },
  {
   "cell_type": "markdown",
   "metadata": {},
   "source": [
    "#### Classe `Noeud`\n",
    "\n",
    "La classe `Noeud` représente chaque case de la grille, ou \"noeud\". Elle stocke plusieurs informations utiles pour l'algorithme :\n",
    "\n",
    "- **position** : la position `(x, y)` de la case dans la grille.\n",
    "- **parent** : le noeud parent, permettant de reconstruire le chemin une fois l'objectif atteint.\n",
    "- **g** : le coût du chemin depuis le noeud de départ jusqu'à ce noeud.\n",
    "- **h** : l'heuristique estimant la distance restante jusqu'à l'objectif.\n",
    "- **f** : la somme de `g` et `h`, soit le coût total estimé pour atteindre l'objectif en passant par ce noeud.\n",
    "\n",
    "La méthode `__lt__` est utilisée pour comparer les noeuds dans une file de priorité.\n"
   ]
  },
  {
   "cell_type": "code",
   "execution_count": 7,
   "metadata": {},
   "outputs": [],
   "source": [
    "def heuristique(a, b):\n",
    "    # Calcul de la distance de Manhattan entre deux points a et b\n",
    "    return abs(a[0] - b[0]) + abs(a[1] - b[1])\n"
   ]
  },
  {
   "cell_type": "markdown",
   "metadata": {},
   "source": [
    "#### Fonction `heuristique`\n",
    "\n",
    "La fonction `heuristique` calcule une estimation du coût restant pour atteindre l'objectif, en utilisant la **distance de Manhattan**. Cette distance est adaptée pour une grille où les déplacements se font de manière orthogonale (haut, bas, gauche, droite). Elle est calculée comme suit :\n",
    "\n",
    "\\[\n",
    "\\text{distance} = |x_1 - x_2| + |y_1 - y_2|\n",
    "\\]\n",
    "\n",
    "Cette valeur aide l'algorithme A* à prioriser les noeuds plus proches de l'objectif.\n"
   ]
  },
  {
   "cell_type": "code",
   "execution_count": 8,
   "metadata": {},
   "outputs": [],
   "source": [
    "import heapq\n",
    "\n",
    "def astar(grille, start, end):\n",
    "    # Initialisation de la liste ouverte (open_list) et de la liste fermée (closed_list)\n",
    "    open_list = []\n",
    "    heapq.heappush(open_list, Noeud(start))\n",
    "    closed_list = set()\n",
    "\n",
    "    while open_list:\n",
    "        # Récupère le noeud avec le plus petit f dans la file de priorité\n",
    "        noeud_courant = heapq.heappop(open_list)\n",
    "        closed_list.add(noeud_courant.position)\n",
    "\n",
    "        # Si l'objectif est atteint, on reconstruit le chemin\n",
    "        if noeud_courant.position == end:\n",
    "            chemin = []\n",
    "            while noeud_courant:\n",
    "                chemin.append(noeud_courant.position)\n",
    "                noeud_courant = noeud_courant.parent\n",
    "            return chemin[::-1]  # Chemin inversé\n",
    "\n",
    "        # Exploration des voisins (haut, bas, gauche, droite)\n",
    "        for dx, dy in [(-1, 0), (1, 0), (0, -1), (0, 1)]:\n",
    "            voisin_pos = (noeud_courant.position[0] + dx, noeud_courant.position[1] + dy)\n",
    "\n",
    "            # Vérifie si le voisin est dans les limites et non bloqué (0 = accessible)\n",
    "            if 0 <= voisin_pos[0] < len(grille) and 0 <= voisin_pos[1] < len(grille[0]) and grille[voisin_pos[0]][voisin_pos[1]] == 0:\n",
    "                if voisin_pos in closed_list:\n",
    "                    continue\n",
    "\n",
    "                # Création du noeud voisin avec ses coûts\n",
    "                voisin = Noeud(voisin_pos, noeud_courant)\n",
    "                voisin.g = noeud_courant.g + 1\n",
    "                voisin.h = heuristique(voisin.position, end)\n",
    "                voisin.f = voisin.g + voisin.h\n",
    "\n",
    "                # Ajoute le voisin à open_list si un meilleur chemin n'existe pas\n",
    "                if all(voisin.position != n.position or voisin.g < n.g for n in open_list):\n",
    "                    heapq.heappush(open_list, voisin)\n",
    "\n",
    "    return None  # Aucun chemin trouvé"
   ]
  },
  {
   "cell_type": "markdown",
   "metadata": {},
   "source": [
    "#### Fonction principale `astar`\n",
    "\n",
    "La fonction `astar` est l'implémentation principale de l'algorithme A*. Elle prend en entrée :\n",
    "\n",
    "- **grille** : une grille (liste de listes) où `0` représente une case libre et `1` un obstacle.\n",
    "- **start** : la position de départ.\n",
    "- **end** : la position d'arrivée.\n",
    "\n",
    "Elle utilise deux structures principales :\n",
    "- **open_list** : une file de priorité qui stocke les noeuds à explorer, triés par leur coût total `f`.\n",
    "- **closed_list** : un ensemble pour stocker les positions déjà explorées, évitant les répétitions.\n",
    "\n",
    "Étapes de l'algorithme :\n",
    "1. On démarre avec le noeud de départ dans `open_list`.\n",
    "2. Tant que `open_list` n'est pas vide :\n",
    "   - On sélectionne le noeud avec le plus petit coût `f`.\n",
    "   - Si ce noeud est l'objectif, on reconstruit et retourne le chemin en remontant les parents.\n",
    "   - Sinon, on explore les voisins (haut, bas, gauche, droite), en calculant leurs coûts `g`, `h`, et `f`.\n",
    "3. Les voisins non encore explorés sont ajoutés à `open_list`.\n",
    "4. Si aucun chemin n'est trouvé, la fonction retourne `None`.\n"
   ]
  },
  {
   "cell_type": "code",
   "execution_count": 9,
   "metadata": {},
   "outputs": [
    {
     "name": "stdout",
     "output_type": "stream",
     "text": [
      "Chemin trouvé: [(0, 0), (1, 0), (2, 0), (2, 1), (2, 2), (3, 2), (3, 3), (3, 4), (4, 4)]\n"
     ]
    }
   ],
   "source": [
    "# Grille de test où 0 = libre et 1 = obstacle\n",
    "grille = [\n",
    "    [0, 1, 0, 0, 0],\n",
    "    [0, 1, 0, 1, 0],\n",
    "    [0, 0, 0, 1, 0],\n",
    "    [0, 1, 0, 0, 0],\n",
    "    [0, 0, 0, 1, 0]\n",
    "]\n",
    "start = (0, 0)  # Point de départ\n",
    "end = (4, 4)    # Objectif\n",
    "\n",
    "# Appel de la fonction A*\n",
    "chemin = astar(grille, start, end)\n",
    "print(\"Chemin trouvé:\", chemin)\n"
   ]
  },
  {
   "cell_type": "markdown",
   "metadata": {},
   "source": [
    "### Explication détaillée de l'exemple d'utilisation de `astar`\n",
    "\n",
    "Nous allons décomposer le fonctionnement de l'algorithme A* sur une grille définie dans cet exemple. Voici le déroulé étape par étape :\n",
    "\n",
    "1. **Définition de la grille :**  \n",
    "   La grille est une liste de listes où chaque cellule est soit libre (`0`), soit un obstacle (`1`).\n",
    "\n",
    "   - `0` = case libre, accessible pour le chemin.\n",
    "   - `1` = obstacle, bloquant le passage.\n",
    "\n",
    "   Exemple de la grille utilisée :\n",
    "\n",
    "[ [0, 1, 0, 0, 0], [0, 1, 0, 1, 0], [0, 0, 0, 1, 0], [0, 1, 0, 0, 0], [0, 0, 0, 1, 0] ]\n",
    "\n",
    "\n",
    "2. **Définition des points de départ et d'arrivée :**  \n",
    "- **start** : le point de départ est défini par la position `(0, 0)` (coin supérieur gauche de la grille).\n",
    "- **end** : l'objectif est défini par la position `(4, 4)` (coin inférieur droit de la grille).\n",
    "\n",
    "3. **Appel de la fonction `astar`** :\n",
    "- **Étape initiale :** A* commence en ajoutant le noeud de départ `(0, 0)` à la liste ouverte `open_list`.\n",
    "- **Boucle principale** : Tant que `open_list` contient des noeuds, l'algorithme va :\n",
    "    - Récupérer le noeud avec le coût total `f` le plus bas et l'explorer.\n",
    "    - Si ce noeud est la position de l'objectif `(4, 4)`, l'algorithme reconstruit le chemin en remontant les noeuds parents.\n",
    "\n",
    "4. **Exploration des voisins** :  \n",
    "Depuis chaque noeud courant, l'algorithme examine les voisins (cases adjacentes : haut, bas, gauche, droite) et effectue les actions suivantes :\n",
    "- Calcule les coûts `g`, `h`, et `f` pour chaque voisin accessible.\n",
    "- Ajoute les voisins accessibles dans `open_list` si :\n",
    "  - Ils ne sont pas déjà explorés (c'est-à-dire qu'ils ne sont pas dans `closed_list`).\n",
    "  - Ou s'ils sont déjà dans `open_list` mais avec un meilleur coût `g`.\n",
    "\n",
    "5. **Exécution du cheminement et construction du chemin final :**  \n",
    "Lorsqu'A* atteint la position d'arrivée `(4, 4)`, il suit les noeuds parents à rebours pour reconstituer le chemin optimal. Ce chemin est ensuite inversé pour obtenir la séquence depuis le départ jusqu'à l'arrivée.\n",
    "\n",
    "6. **Affichage du chemin** :\n",
    "- Si un chemin a été trouvé, il est retourné sous forme d'une liste de positions (comme `(0, 0) -> (1, 0) -> ... -> (4, 4)`), correspondant au chemin optimal.\n",
    "- Si aucun chemin n'est trouvé, `None` est renvoyé.\n",
    "\n",
    "Dans cet exemple, le chemin optimal trouvé peut ressembler à quelque chose comme :\n",
    "\n",
    "[(0, 0), (1, 0), (2, 0), (2, 1), (2, 2), (3, 2), (4, 2), (4, 3), (4, 4)]\n",
    "\n",
    "\n",
    "Cela signifie que l'algorithme a réussi à éviter les obstacles et à trouver un chemin de longueur minimale pour atteindre la cible."
   ]
  }
 ],
 "metadata": {
  "kernelspec": {
   "display_name": "Python 3",
   "language": "python",
   "name": "python3"
  },
  "language_info": {
   "codemirror_mode": {
    "name": "ipython",
    "version": 3
   },
   "file_extension": ".py",
   "mimetype": "text/x-python",
   "name": "python",
   "nbconvert_exporter": "python",
   "pygments_lexer": "ipython3",
   "version": "3.12.0"
  }
 },
 "nbformat": 4,
 "nbformat_minor": 2
}
