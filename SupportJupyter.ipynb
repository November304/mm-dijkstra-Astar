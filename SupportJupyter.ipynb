{
 "cells": [
  {
   "cell_type": "markdown",
   "metadata": {},
   "source": [
    "Présentation des algorithmes de Djikstra et A*.\n",
    "\n",
    "\n"
   ]
  },
  {
   "cell_type": "markdown",
   "metadata": {},
   "source": [
    "# Djikstra\n",
    "\n",
    "## Principe\n",
    "\n",
    "Djikstra est un algorithme de recherche de plus court chemin dans un graphe. Il est basé sur une recherche en largeur. Il est utilisé pour trouver le plus court chemin entre un sommet de départ et tous les autres sommets d'un graphe pondéré. Il est utilisé dans de nombreux domaines, notamment pour les réseaux de télécommunications, les réseaux de transport, les réseaux électriques, etc."
   ]
  },
  {
   "cell_type": "code",
   "execution_count": null,
   "metadata": {
    "vscode": {
     "languageId": "plaintext"
    }
   },
   "outputs": [],
   "source": []
  },
  {
   "cell_type": "markdown",
   "metadata": {},
   "source": [
    "# A*\n",
    "\n",
    "## Principe\n",
    "\n",
    "A* est un algorithme de recherche de plus court chemin dans un graphe. Il est basé sur une recherche en largeur. Il est utilisé pour trouver le plus court chemin entre un sommet de départ et un sommet d'arrivée dans un graphe pondéré. Il est utilisé dans de nombreux domaines, notamment pour les jeux vidéo, la robotique, la planification de trajets, etc."
   ]
  },
  {
   "cell_type": "code",
   "execution_count": null,
   "metadata": {
    "vscode": {
     "languageId": "plaintext"
    }
   },
   "outputs": [],
   "source": []
  }
 ],
 "metadata": {
  "language_info": {
   "name": "python"
  }
 },
 "nbformat": 4,
 "nbformat_minor": 2
}
