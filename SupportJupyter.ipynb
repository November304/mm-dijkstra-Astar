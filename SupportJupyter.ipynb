{
 "cells": [
  {
   "cell_type": "markdown",
   "metadata": {},
   "source": [
    "# Présentation des algorithmes de Djikstra et A*."
   ]
  },
  {
   "cell_type": "markdown",
   "metadata": {},
   "source": [
    "## Djikstra\n",
    "\n",
    "### Principe\n",
    "\n",
    "Djikstra est un algorithme de recherche de plus court chemin dans un graphe. Il est basé sur une recherche en largeur. Il est utilisé pour trouver le plus court chemin entre un sommet de départ et tous les autres sommets d'un graphe pondéré. Il est utilisé dans de nombreux domaines, notamment pour les réseaux de télécommunications, les réseaux de transport, les réseaux électriques, etc.\n",
    "\n",
    "### Fonctionnement\n",
    "\n",
    "L'algorithme de Djikstra fonctionne de la manière suivante :\n",
    "\n",
    "1. On initialise un tableau de distances `dist` avec des valeurs infinies pour tous les sommets sauf le sommet de départ, pour lequel on met la distance à 0.\n",
    "2. On crée un ensemble `Q` contenant tous les sommets du graphe.\n",
    "3. Tant que `Q` n'est pas vide, on sélectionne le sommet `u` de `Q` ayant la plus petite distance dans le tableau `dist`.\n",
    "4. On retire `u` de `Q` et on met à jour les distances des sommets adjacents à `u` en fonction de la distance de `u` et des poids des arêtes.\n",
    "5. On répète les étapes 3 et 4 jusqu'à ce que `Q` soit vide."
   ]
  },
  {
   "cell_type": "code",
   "execution_count": 1,
   "metadata": {},
   "outputs": [],
   "source": [
    "import heapq\n",
    "\n",
    "def dijkstra(graph, start):\n",
    "    # Initialisation des distances et de la file de priorité\n",
    "    distances = {vertex: float('infinity') for vertex in graph}\n",
    "    distances[start] = 0\n",
    "    priority_queue = [(0, start)]\n",
    "    \n",
    "    while priority_queue:\n",
    "        current_distance, current_vertex = heapq.heappop(priority_queue)\n",
    "        \n",
    "        # Les nœuds peuvent être ajoutés plusieurs fois à la file de priorité\n",
    "        # Nous devons donc vérifier si nous avons déjà trouvé une meilleure distance\n",
    "        if current_distance > distances[current_vertex]:\n",
    "            continue\n",
    "        \n",
    "        # Vérifier les voisins du nœud actuel\n",
    "        for neighbor, weight in graph[current_vertex].items():\n",
    "            distance = current_distance + weight\n",
    "            \n",
    "            # Si une distance plus courte est trouvée\n",
    "            if distance < distances[neighbor]:\n",
    "                distances[neighbor] = distance\n",
    "                heapq.heappush(priority_queue, (distance, neighbor))\n",
    "    \n",
    "    return distances\n",
    "\n"
   ]
  },
  {
   "cell_type": "markdown",
   "metadata": {},
   "source": [
    "Voici un exemple d'algorithmes de Djikstra en Python \n",
    "\n",
    "Et en dessous l'execution de l'algorithme sur un graphe simple"
   ]
  },
  {
   "cell_type": "code",
   "execution_count": 2,
   "metadata": {},
   "outputs": [
    {
     "name": "stdout",
     "output_type": "stream",
     "text": [
      "{'A': 0, 'B': 1, 'C': 3, 'D': 4}\n"
     ]
    }
   ],
   "source": [
    "# Exemple de graphe pondéré\n",
    "graph = {\n",
    "    'A': {'B': 1, 'C': 4},\n",
    "    'B': {'A': 1, 'C': 2, 'D': 5},\n",
    "    'C': {'A': 4, 'B': 2, 'D': 1},\n",
    "    'D': {'B': 5, 'C': 1}\n",
    "}\n",
    "\n",
    "# Calculer les distances depuis le sommet 'A'\n",
    "distances = dijkstra(graph, 'A')\n",
    "print(distances)"
   ]
  },
  {
   "cell_type": "markdown",
   "metadata": {},
   "source": [
    "## A*\n",
    "\n",
    "### Principe\n",
    "\n",
    "A* est un algorithme de recherche de plus court chemin dans un graphe. Il est basé sur une recherche en largeur. Il est utilisé pour trouver le plus court chemin entre un sommet de départ et un sommet d'arrivée dans un graphe pondéré. Il est utilisé dans de nombreux domaines, notamment pour les jeux vidéo, la robotique, la planification de trajets, etc.\n",
    "\n",
    "### Fonctionnement\n",
    "\n",
    "L'algorithme A* fonctionne de la manière suivante :\n",
    "    \n",
    "\n",
    "\n",
    "### Algorithmes"
   ]
  },
  {
   "cell_type": "code",
   "execution_count": null,
   "metadata": {},
   "outputs": [],
   "source": [
    "class Noeud:\n",
    "    def __init__(self, position, parent=None):\n",
    "        self.position = position  # Position (x, y) du noeud\n",
    "        self.parent = parent      # Noeud parent pour reconstruire le chemin\n",
    "        self.g = 0  # Coût depuis le départ jusqu'à ce noeud\n",
    "        self.h = 0  # Heuristique, estimation du coût restant jusqu'à l'objectif\n",
    "        self.f = 0  # f = g + h, coût total estimé\n",
    "\n",
    "    def __lt__(self, other):\n",
    "        return self.f < other.f  # Comparaison pour la priorité dans la file\n"
   ]
  },
  {
   "cell_type": "markdown",
   "metadata": {},
   "source": []
  }
 ],
 "metadata": {
  "kernelspec": {
   "display_name": "Python 3",
   "language": "python",
   "name": "python3"
  },
  "language_info": {
   "codemirror_mode": {
    "name": "ipython",
    "version": 3
   },
   "file_extension": ".py",
   "mimetype": "text/x-python",
   "name": "python",
   "nbconvert_exporter": "python",
   "pygments_lexer": "ipython3",
   "version": "3.12.0"
  }
 },
 "nbformat": 4,
 "nbformat_minor": 2
}
